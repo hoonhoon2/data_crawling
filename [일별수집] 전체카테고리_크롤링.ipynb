{
 "cells": [
  {
   "cell_type": "code",
   "execution_count": 2,
   "id": "126da8cd",
   "metadata": {
    "ExecuteTime": {
     "end_time": "2022-01-14T08:00:25.562614Z",
     "start_time": "2022-01-14T08:00:23.821946Z"
    }
   },
   "outputs": [],
   "source": [
    "import pandas as pd\n",
    "import numpy as np\n",
    "import json\n",
    "\n",
    "from bs4 import BeautifulSoup\n",
    "import urllib.request as REQ\n",
    "import matplotlib.pyplot as plt\n",
    "import matplotlib\n",
    "import seaborn as sns\n",
    "import requests\n",
    "import datetime\n",
    "plt.style.use('ggplot')\n",
    "matplotlib.rcParams['font.family']='Malgun Gothic'\n",
    "matplotlib.rcParams['axes.unicode_minus'] = False\n",
    "\n",
    "# pd.set_option('display.max_rows', None)\n",
    "pd.set_option('display.max_columns', None)"
   ]
  },
  {
   "cell_type": "code",
   "execution_count": 3,
   "id": "8c35d330",
   "metadata": {
    "ExecuteTime": {
     "end_time": "2022-01-14T08:00:25.578537Z",
     "start_time": "2022-01-14T08:00:25.564575Z"
    }
   },
   "outputs": [],
   "source": [
    "catid_dic = {'clothes' : 50000000, 'accessories' : 50000001, 'cosmetics' : 50000002, 'electronics' : 50000003, 'furniture' : 50000004, \n",
    "             'babies' : 50000005, 'groceries' : 50000006, 'sports' : 50000007, 'household' : 50000008, 'leisure' : 50000009, 'books' : 50005542}"
   ]
  },
  {
   "cell_type": "code",
   "execution_count": 4,
   "id": "3f46b745",
   "metadata": {
    "ExecuteTime": {
     "end_time": "2022-01-14T08:01:21.683755Z",
     "start_time": "2022-01-14T08:00:25.580531Z"
    }
   },
   "outputs": [
    {
     "name": "stdout",
     "output_type": "stream",
     "text": [
      "clothes 400\n",
      "accessories 400\n",
      "cosmetics 400\n",
      "electronics 400\n",
      "furniture 400\n",
      "babies 400\n",
      "groceries 400\n",
      "sports 400\n",
      "household 400\n",
      "leisure 400\n",
      "books 400\n"
     ]
    }
   ],
   "source": [
    "today = str(datetime.datetime.now().date()).replace('-', '')\n",
    "\n",
    "for key in catid_dic.keys():\n",
    "    globals()[f'{key}001'] = []\n",
    "    for page_num in range(1, 6):\n",
    "        response = requests.get(\n",
    "            f'https://search.shopping.naver.com/search/category?catId={catid_dic[key]}&frm=NVSHCHK&origQuery&pagingIndex={page_num}&pagingSize=80&productSet=checkout&query&sort=rel&timestamp=&viewType=list'\n",
    "        )\n",
    "        html_str = response.text\n",
    "\n",
    "        soup = BeautifulSoup(html_str, 'html.parser')\n",
    "        s = soup.find('script', type='application/json')\n",
    "        globals()[f'{key}_list'] = json.loads(s.string)\n",
    "\n",
    "        file_path = f\"G:/내 드라이브/프로젝트/아자아자2조유통파이팅~!/data/shopping_json/shopping_json(0114)/{today}_{key}_{page_num}.json\"\n",
    "        with open(file_path, 'w') as outfile:\n",
    "            json.dump(globals()[f'{key}_list'], outfile, indent=4)\n",
    "\n",
    "        list001 = globals()[f'{key}_list']['props']['pageProps'][\n",
    "            'initialState']['products']['list']\n",
    "\n",
    "        for i in range(1, len(list001), 1):\n",
    "            if 'adId' in list001[i]['item'].keys():\n",
    "                pass\n",
    "            else:\n",
    "                products = list001[i]['item']\n",
    "                수집일자 = datetime.datetime.now()\n",
    "                카테고리대분류 = products['category1Name']\n",
    "                카테고리중분류 = products['category2Name']\n",
    "                카테고리소분류 = products['category3Name']\n",
    "                카테고리세분류 = products['category4Name']\n",
    "                순위 = products['rank']\n",
    "                상품명 = products['productName']\n",
    "                상품아이디 = products['id']\n",
    "                판매자 = products['mallName']\n",
    "                판매자등급 = products['mallInfoCache']['mallGrade']\n",
    "                굿서비스 = products['mallInfoCache']['goodService']\n",
    "                가격 = products['price']\n",
    "                등록일자 = products['openDate']\n",
    "                리뷰건수 = products['reviewCount']\n",
    "                리뷰건수합 = products['reviewCountSum']\n",
    "                구매건수 = products['purchaseCnt']\n",
    "                찜하기수 = products['keepCnt']\n",
    "                쿠폰유무 = products['hasCouponContent']\n",
    "                이벤트유무 = products['hasEventContent']\n",
    "                배송비 = products['deliveryFeeContent']\n",
    "                배송정보 = products['dlvryCont']\n",
    "                적립포인트 = products['buyPointContent']\n",
    "                평점 = products['scoreInfo']\n",
    "                검색키워드 = products['searchKeyword']  # 나중에 유무구분 후 컬럼 추가 필요\n",
    "                태그 = products['manuTag']  # 갯수 범주화..?\n",
    "                추가이미지개수 = products['additionalImageCount']\n",
    "                비디오유무 = products['hasVideo']\n",
    "                이미지url = products['imageUrl']\n",
    "                이미지사이즈 = products['imgSz']\n",
    "                이미지컬러코드 = products['imgColorCd']\n",
    "                globals()[f'{key}001'].append([\n",
    "                    수집일자, 카테고리대분류, 카테고리중분류, 카테고리소분류, 카테고리세분류, 순위, 상품명, 상품아이디, 판매자,\n",
    "                    판매자등급, 굿서비스, 가격, 등록일자, 리뷰건수, 리뷰건수합, 구매건수, 찜하기수, 쿠폰유무,\n",
    "                    이벤트유무, 배송비, 배송정보, 적립포인트, 평점, 검색키워드, 태그, 추가이미지개수, 비디오유무, 이미지url,\n",
    "                    이미지사이즈, 이미지컬러코드\n",
    "                ])\n",
    "\n",
    "        globals()[f'df_{key}'] = pd.DataFrame(\n",
    "            globals()[f'{key}001'],\n",
    "            columns=[\n",
    "                '수집일자', '카테고리대분류', '카테고리중분류', '카테고리소분류', '카테고리세분류', '순위', '상품명', '상품아이디',\n",
    "                '판매자', '판매자등급', '굿서비스', '가격', '등록일자', '리뷰건수', '리뷰건수합', '구매건수',\n",
    "                '찜하기수', '쿠폰유무', '이벤트유무', '배송비', '배송정보', '적립포인트', '평점', '검색키워드',\n",
    "                '태그', '추가이미지개수', '비디오유무', '이미지url', '이미지사이즈', '이미지컬러코드'\n",
    "            ])\n",
    "\n",
    "key_list = []\n",
    "for key in catid_dic.keys():\n",
    "    key_list.append(globals()[f'df_{key}'])\n",
    "\n",
    "for key in catid_dic.keys():\n",
    "    print(key, len(globals()[f'df_{key}']))\n",
    "\n",
    "globals()[f'df_{today}'] = pd.concat(key_list)\n",
    "\n",
    "globals()[f'df_{today}'].to_csv(f'G:/내 드라이브/프로젝트/아자아자2조유통파이팅~!/data/shopping/전체카테고리_{today}.csv',\n",
    "                                index=False,\n",
    "                                encoding='UTF-8 sig')"
   ]
  },
  {
   "cell_type": "code",
   "execution_count": null,
   "id": "7953d7f4",
   "metadata": {},
   "outputs": [],
   "source": []
  }
 ],
 "metadata": {
  "kernelspec": {
   "display_name": "Python 3 (ipykernel)",
   "language": "python",
   "name": "python3"
  },
  "language_info": {
   "codemirror_mode": {
    "name": "ipython",
    "version": 3
   },
   "file_extension": ".py",
   "mimetype": "text/x-python",
   "name": "python",
   "nbconvert_exporter": "python",
   "pygments_lexer": "ipython3",
   "version": "3.9.7"
  },
  "toc": {
   "base_numbering": 1,
   "nav_menu": {},
   "number_sections": true,
   "sideBar": true,
   "skip_h1_title": false,
   "title_cell": "Table of Contents",
   "title_sidebar": "Contents",
   "toc_cell": false,
   "toc_position": {},
   "toc_section_display": true,
   "toc_window_display": false
  }
 },
 "nbformat": 4,
 "nbformat_minor": 5
}
